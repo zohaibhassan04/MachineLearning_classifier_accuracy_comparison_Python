{
 "cells": [
  {
   "cell_type": "markdown",
   "id": "998fb1c0-1692-4e8e-a4ad-975af1722f67",
   "metadata": {},
   "source": [
    "Make synthetic dataset\n"
   ]
  },
  {
   "cell_type": "code",
   "execution_count": 15,
   "id": "5c176ef1-f745-41d8-a182-b42504f4f8ea",
   "metadata": {},
   "outputs": [],
   "source": [
    "from sklearn.datasets import make_classification"
   ]
  },
  {
   "cell_type": "markdown",
   "id": "b5c489a5-bb3b-42f6-837c-c25d1067133b",
   "metadata": {},
   "source": [
    "Generate the dataset"
   ]
  },
  {
   "cell_type": "code",
   "execution_count": 16,
   "id": "875f0406-0b82-49d9-92f9-fc0072ef8879",
   "metadata": {},
   "outputs": [],
   "source": [
    "X, Y = make_classification(n_samples=1000, n_classes=2, n_features=5, n_redundant=0, random_state=1)"
   ]
  },
  {
   "cell_type": "code",
   "execution_count": 17,
   "id": "2b7a1707-bf59-4ffb-a874-8fec69d71ad9",
   "metadata": {},
   "outputs": [
    {
     "data": {
      "text/plain": [
       "(1000, 5)"
      ]
     },
     "execution_count": 17,
     "metadata": {},
     "output_type": "execute_result"
    }
   ],
   "source": [
    "X.shape"
   ]
  },
  {
   "cell_type": "markdown",
   "id": "ea01f9a9-9ff0-4f9f-beee-66c1be80b99d",
   "metadata": {},
   "source": [
    "Y.shape"
   ]
  },
  {
   "cell_type": "markdown",
   "id": "ce90193a-b1d9-47ba-89d6-cdcb3cede56e",
   "metadata": {},
   "source": [
    "Import library"
   ]
  },
  {
   "cell_type": "code",
   "execution_count": 19,
   "id": "a261cb64-0adc-4df1-8880-ff0da53b0c3d",
   "metadata": {},
   "outputs": [],
   "source": [
    "from sklearn.model_selection import train_test_split"
   ]
  },
  {
   "cell_type": "markdown",
   "id": "19ffba08-e0e3-4457-9012-542df98f3c62",
   "metadata": {},
   "source": [
    "Data split"
   ]
  },
  {
   "cell_type": "markdown",
   "id": "dcc50814-d1ff-40f6-a402-0366be9effbb",
   "metadata": {},
   "source": [
    "X_train, X_test, Y_train, Y_test = train_test_split(X, Y, test_size=0.2)"
   ]
  },
  {
   "cell_type": "code",
   "execution_count": 23,
   "id": "f53aa6e4-d9c0-47d3-b7a2-1097f12685b8",
   "metadata": {},
   "outputs": [
    {
     "data": {
      "text/plain": [
       "((800, 5), (800,))"
      ]
     },
     "execution_count": 23,
     "metadata": {},
     "output_type": "execute_result"
    }
   ],
   "source": [
    "X_train.shape, Y_train.shape"
   ]
  },
  {
   "cell_type": "code",
   "execution_count": 24,
   "id": "2a66af4d-f455-42c6-b077-77e54d377a52",
   "metadata": {},
   "outputs": [
    {
     "data": {
      "text/plain": [
       "((200, 5), (200,))"
      ]
     },
     "execution_count": 24,
     "metadata": {},
     "output_type": "execute_result"
    }
   ],
   "source": [
    "X_test.shape, Y_test.shape"
   ]
  },
  {
   "cell_type": "markdown",
   "id": "92be4b8f-d4b4-48b1-a52e-c47f26f5e28d",
   "metadata": {},
   "source": [
    "Import Modules"
   ]
  },
  {
   "cell_type": "markdown",
   "id": "d1646cc0-8045-4bcc-ab04-5e5183e13b8d",
   "metadata": {},
   "source": [
    "import pandas as pd\n",
    "\n",
    "from sklearn.neural_network import MLPClassifier\n",
    "from sklearn.neighbors import KNeighborsClassifier\n",
    "from sklearn.svm import SVC\n",
    "from sklearn.gaussian_process import GaussianProcessClassifier\n",
    "from sklearn.ensemble import GradientBoostingClassifier\n",
    "from sklearn.gaussian_process.kernels import RBF\n",
    "from sklearn.tree import DecisionTreeClassifier\n",
    "from sklearn.ensemble import ExtraTreesClassifier\n",
    "from sklearn.ensemble import RandomForestClassifier, AdaBoostClassifier\n",
    "from sklearn.naive_bayes import GaussianNB\n",
    "from sklearn.discriminant_analysis import QuadraticDiscriminantAnalysis\n",
    "from sklearn.linear_model import SGDClassifier"
   ]
  },
  {
   "cell_type": "markdown",
   "id": "3e8a7b90-d8d6-4fc7-a5a8-d840c2ea20f2",
   "metadata": {},
   "source": [
    "Defining classifiers"
   ]
  },
  {
   "cell_type": "code",
   "execution_count": 26,
   "id": "428bd84b-2c46-455d-8f1d-cd01a24bb35e",
   "metadata": {},
   "outputs": [],
   "source": [
    "names = [\"Nearest_Neighbors\", \"Linear_SVM\", \"Polynomial_SVM\", \"RBF_SVM\", \"Gaussian_Process\",\n",
    "         \"Gradient_Boosting\", \"Decision_Tree\", \"Extra_Trees\", \"Random_Forest\", \"Neural_Net\", \"AdaBoost\",\n",
    "         \"Naive_Bayes\", \"QDA\", \"SGD\"]\n",
    "\n",
    "classifiers = [\n",
    "    KNeighborsClassifier(3),\n",
    "    SVC(kernel=\"linear\", C=0.025),\n",
    "    SVC(kernel=\"poly\", degree=3, C=0.025),\n",
    "    SVC(kernel=\"rbf\", C=1, gamma=2),\n",
    "    GaussianProcessClassifier(1.0 * RBF(1.0)),\n",
    "    GradientBoostingClassifier(n_estimators=100, learning_rate=1.0),\n",
    "    DecisionTreeClassifier(max_depth=5),\n",
    "    ExtraTreesClassifier(n_estimators=10, min_samples_split=2),\n",
    "    RandomForestClassifier(max_depth=5, n_estimators=100),\n",
    "    MLPClassifier(alpha=1, max_iter=1000),\n",
    "    AdaBoostClassifier(n_estimators=100),\n",
    "    GaussianNB(),\n",
    "    QuadraticDiscriminantAnalysis(),\n",
    "    SGDClassifier(loss=\"hinge\", penalty=\"l2\")]"
   ]
  },
  {
   "cell_type": "code",
   "execution_count": 28,
   "id": "89dd58ac-843b-490c-8940-9508a635353e",
   "metadata": {
    "collapsed": true,
    "jupyter": {
     "outputs_hidden": true
    },
    "scrolled": true
   },
   "outputs": [
    {
     "name": "stderr",
     "output_type": "stream",
     "text": [
      "C:\\Users\\hassa\\AppData\\Local\\Programs\\Python\\Python312\\Lib\\site-packages\\sklearn\\ensemble\\_weight_boosting.py:527: FutureWarning: The SAMME.R algorithm (the default) is deprecated and will be removed in 1.6. Use the SAMME algorithm to circumvent this warning.\n",
      "  warnings.warn(\n"
     ]
    }
   ],
   "source": [
    "scores = []\n",
    "for name, clf in zip(names, classifiers):\n",
    "    clf.fit(X_train, Y_train)\n",
    "    score = clf.score(X_test, Y_test)\n",
    "    scores.append(score)"
   ]
  },
  {
   "cell_type": "code",
   "execution_count": 29,
   "id": "438ae035-3161-486f-b051-fd02a91b25a1",
   "metadata": {},
   "outputs": [
    {
     "data": {
      "text/plain": [
       "[0.8,\n",
       " 0.825,\n",
       " 0.82,\n",
       " 0.8,\n",
       " 0.84,\n",
       " 0.82,\n",
       " 0.835,\n",
       " 0.82,\n",
       " 0.83,\n",
       " 0.84,\n",
       " 0.815,\n",
       " 0.835,\n",
       " 0.825,\n",
       " 0.8]"
      ]
     },
     "execution_count": 29,
     "metadata": {},
     "output_type": "execute_result"
    }
   ],
   "source": [
    "scores"
   ]
  },
  {
   "cell_type": "markdown",
   "id": "51ed7061-da09-4cce-bca3-e96e05ec14a6",
   "metadata": {},
   "source": [
    " Analysis of Model Performance"
   ]
  },
  {
   "cell_type": "code",
   "execution_count": 31,
   "id": "b09ae694-e633-4092-92a5-53d2d2e1246d",
   "metadata": {},
   "outputs": [],
   "source": [
    "import pandas as pd\n",
    "import seaborn as sns"
   ]
  },
  {
   "cell_type": "code",
   "execution_count": 32,
   "id": "dfdbfa99-ebca-4079-9428-1725f399863d",
   "metadata": {},
   "outputs": [
    {
     "data": {
      "text/html": [
       "<div>\n",
       "<style scoped>\n",
       "    .dataframe tbody tr th:only-of-type {\n",
       "        vertical-align: middle;\n",
       "    }\n",
       "\n",
       "    .dataframe tbody tr th {\n",
       "        vertical-align: top;\n",
       "    }\n",
       "\n",
       "    .dataframe thead th {\n",
       "        text-align: right;\n",
       "    }\n",
       "</style>\n",
       "<table border=\"1\" class=\"dataframe\">\n",
       "  <thead>\n",
       "    <tr style=\"text-align: right;\">\n",
       "      <th></th>\n",
       "      <th>name</th>\n",
       "      <th>score</th>\n",
       "    </tr>\n",
       "  </thead>\n",
       "  <tbody>\n",
       "    <tr>\n",
       "      <th>0</th>\n",
       "      <td>Nearest_Neighbors</td>\n",
       "      <td>0.800</td>\n",
       "    </tr>\n",
       "    <tr>\n",
       "      <th>1</th>\n",
       "      <td>Linear_SVM</td>\n",
       "      <td>0.825</td>\n",
       "    </tr>\n",
       "    <tr>\n",
       "      <th>2</th>\n",
       "      <td>Polynomial_SVM</td>\n",
       "      <td>0.820</td>\n",
       "    </tr>\n",
       "    <tr>\n",
       "      <th>3</th>\n",
       "      <td>RBF_SVM</td>\n",
       "      <td>0.800</td>\n",
       "    </tr>\n",
       "    <tr>\n",
       "      <th>4</th>\n",
       "      <td>Gaussian_Process</td>\n",
       "      <td>0.840</td>\n",
       "    </tr>\n",
       "    <tr>\n",
       "      <th>5</th>\n",
       "      <td>Gradient_Boosting</td>\n",
       "      <td>0.820</td>\n",
       "    </tr>\n",
       "    <tr>\n",
       "      <th>6</th>\n",
       "      <td>Decision_Tree</td>\n",
       "      <td>0.835</td>\n",
       "    </tr>\n",
       "    <tr>\n",
       "      <th>7</th>\n",
       "      <td>Extra_Trees</td>\n",
       "      <td>0.820</td>\n",
       "    </tr>\n",
       "    <tr>\n",
       "      <th>8</th>\n",
       "      <td>Random_Forest</td>\n",
       "      <td>0.830</td>\n",
       "    </tr>\n",
       "    <tr>\n",
       "      <th>9</th>\n",
       "      <td>Neural_Net</td>\n",
       "      <td>0.840</td>\n",
       "    </tr>\n",
       "    <tr>\n",
       "      <th>10</th>\n",
       "      <td>AdaBoost</td>\n",
       "      <td>0.815</td>\n",
       "    </tr>\n",
       "    <tr>\n",
       "      <th>11</th>\n",
       "      <td>Naive_Bayes</td>\n",
       "      <td>0.835</td>\n",
       "    </tr>\n",
       "    <tr>\n",
       "      <th>12</th>\n",
       "      <td>QDA</td>\n",
       "      <td>0.825</td>\n",
       "    </tr>\n",
       "    <tr>\n",
       "      <th>13</th>\n",
       "      <td>SGD</td>\n",
       "      <td>0.800</td>\n",
       "    </tr>\n",
       "  </tbody>\n",
       "</table>\n",
       "</div>"
      ],
      "text/plain": [
       "                 name  score\n",
       "0   Nearest_Neighbors  0.800\n",
       "1          Linear_SVM  0.825\n",
       "2      Polynomial_SVM  0.820\n",
       "3             RBF_SVM  0.800\n",
       "4    Gaussian_Process  0.840\n",
       "5   Gradient_Boosting  0.820\n",
       "6       Decision_Tree  0.835\n",
       "7         Extra_Trees  0.820\n",
       "8       Random_Forest  0.830\n",
       "9          Neural_Net  0.840\n",
       "10           AdaBoost  0.815\n",
       "11        Naive_Bayes  0.835\n",
       "12                QDA  0.825\n",
       "13                SGD  0.800"
      ]
     },
     "execution_count": 32,
     "metadata": {},
     "output_type": "execute_result"
    }
   ],
   "source": [
    "df = pd.DataFrame()\n",
    "df['name'] = names\n",
    "df['score'] = scores\n",
    "df"
   ]
  },
  {
   "cell_type": "code",
   "execution_count": 34,
   "id": "21173f02-b221-4a7e-9a95-cee2a855dc3b",
   "metadata": {},
   "outputs": [
    {
     "data": {
      "text/html": [
       "<style type=\"text/css\">\n",
       "#T_08357_row0_col1, #T_08357_row3_col1, #T_08357_row13_col1 {\n",
       "  background-color: #ebf3eb;\n",
       "  color: #000000;\n",
       "}\n",
       "#T_08357_row1_col1, #T_08357_row12_col1 {\n",
       "  background-color: #58ab58;\n",
       "  color: #f1f1f1;\n",
       "}\n",
       "#T_08357_row2_col1, #T_08357_row5_col1, #T_08357_row7_col1 {\n",
       "  background-color: #76ba76;\n",
       "  color: #f1f1f1;\n",
       "}\n",
       "#T_08357_row4_col1, #T_08357_row9_col1 {\n",
       "  background-color: #008000;\n",
       "  color: #f1f1f1;\n",
       "}\n",
       "#T_08357_row6_col1, #T_08357_row11_col1 {\n",
       "  background-color: #1d8e1d;\n",
       "  color: #f1f1f1;\n",
       "}\n",
       "#T_08357_row8_col1 {\n",
       "  background-color: #3b9d3b;\n",
       "  color: #f1f1f1;\n",
       "}\n",
       "#T_08357_row10_col1 {\n",
       "  background-color: #93c893;\n",
       "  color: #000000;\n",
       "}\n",
       "</style>\n",
       "<table id=\"T_08357\">\n",
       "  <thead>\n",
       "    <tr>\n",
       "      <th class=\"blank level0\" >&nbsp;</th>\n",
       "      <th id=\"T_08357_level0_col0\" class=\"col_heading level0 col0\" >name</th>\n",
       "      <th id=\"T_08357_level0_col1\" class=\"col_heading level0 col1\" >score</th>\n",
       "    </tr>\n",
       "  </thead>\n",
       "  <tbody>\n",
       "    <tr>\n",
       "      <th id=\"T_08357_level0_row0\" class=\"row_heading level0 row0\" >0</th>\n",
       "      <td id=\"T_08357_row0_col0\" class=\"data row0 col0\" >Nearest_Neighbors</td>\n",
       "      <td id=\"T_08357_row0_col1\" class=\"data row0 col1\" >0.800000</td>\n",
       "    </tr>\n",
       "    <tr>\n",
       "      <th id=\"T_08357_level0_row1\" class=\"row_heading level0 row1\" >1</th>\n",
       "      <td id=\"T_08357_row1_col0\" class=\"data row1 col0\" >Linear_SVM</td>\n",
       "      <td id=\"T_08357_row1_col1\" class=\"data row1 col1\" >0.825000</td>\n",
       "    </tr>\n",
       "    <tr>\n",
       "      <th id=\"T_08357_level0_row2\" class=\"row_heading level0 row2\" >2</th>\n",
       "      <td id=\"T_08357_row2_col0\" class=\"data row2 col0\" >Polynomial_SVM</td>\n",
       "      <td id=\"T_08357_row2_col1\" class=\"data row2 col1\" >0.820000</td>\n",
       "    </tr>\n",
       "    <tr>\n",
       "      <th id=\"T_08357_level0_row3\" class=\"row_heading level0 row3\" >3</th>\n",
       "      <td id=\"T_08357_row3_col0\" class=\"data row3 col0\" >RBF_SVM</td>\n",
       "      <td id=\"T_08357_row3_col1\" class=\"data row3 col1\" >0.800000</td>\n",
       "    </tr>\n",
       "    <tr>\n",
       "      <th id=\"T_08357_level0_row4\" class=\"row_heading level0 row4\" >4</th>\n",
       "      <td id=\"T_08357_row4_col0\" class=\"data row4 col0\" >Gaussian_Process</td>\n",
       "      <td id=\"T_08357_row4_col1\" class=\"data row4 col1\" >0.840000</td>\n",
       "    </tr>\n",
       "    <tr>\n",
       "      <th id=\"T_08357_level0_row5\" class=\"row_heading level0 row5\" >5</th>\n",
       "      <td id=\"T_08357_row5_col0\" class=\"data row5 col0\" >Gradient_Boosting</td>\n",
       "      <td id=\"T_08357_row5_col1\" class=\"data row5 col1\" >0.820000</td>\n",
       "    </tr>\n",
       "    <tr>\n",
       "      <th id=\"T_08357_level0_row6\" class=\"row_heading level0 row6\" >6</th>\n",
       "      <td id=\"T_08357_row6_col0\" class=\"data row6 col0\" >Decision_Tree</td>\n",
       "      <td id=\"T_08357_row6_col1\" class=\"data row6 col1\" >0.835000</td>\n",
       "    </tr>\n",
       "    <tr>\n",
       "      <th id=\"T_08357_level0_row7\" class=\"row_heading level0 row7\" >7</th>\n",
       "      <td id=\"T_08357_row7_col0\" class=\"data row7 col0\" >Extra_Trees</td>\n",
       "      <td id=\"T_08357_row7_col1\" class=\"data row7 col1\" >0.820000</td>\n",
       "    </tr>\n",
       "    <tr>\n",
       "      <th id=\"T_08357_level0_row8\" class=\"row_heading level0 row8\" >8</th>\n",
       "      <td id=\"T_08357_row8_col0\" class=\"data row8 col0\" >Random_Forest</td>\n",
       "      <td id=\"T_08357_row8_col1\" class=\"data row8 col1\" >0.830000</td>\n",
       "    </tr>\n",
       "    <tr>\n",
       "      <th id=\"T_08357_level0_row9\" class=\"row_heading level0 row9\" >9</th>\n",
       "      <td id=\"T_08357_row9_col0\" class=\"data row9 col0\" >Neural_Net</td>\n",
       "      <td id=\"T_08357_row9_col1\" class=\"data row9 col1\" >0.840000</td>\n",
       "    </tr>\n",
       "    <tr>\n",
       "      <th id=\"T_08357_level0_row10\" class=\"row_heading level0 row10\" >10</th>\n",
       "      <td id=\"T_08357_row10_col0\" class=\"data row10 col0\" >AdaBoost</td>\n",
       "      <td id=\"T_08357_row10_col1\" class=\"data row10 col1\" >0.815000</td>\n",
       "    </tr>\n",
       "    <tr>\n",
       "      <th id=\"T_08357_level0_row11\" class=\"row_heading level0 row11\" >11</th>\n",
       "      <td id=\"T_08357_row11_col0\" class=\"data row11 col0\" >Naive_Bayes</td>\n",
       "      <td id=\"T_08357_row11_col1\" class=\"data row11 col1\" >0.835000</td>\n",
       "    </tr>\n",
       "    <tr>\n",
       "      <th id=\"T_08357_level0_row12\" class=\"row_heading level0 row12\" >12</th>\n",
       "      <td id=\"T_08357_row12_col0\" class=\"data row12 col0\" >QDA</td>\n",
       "      <td id=\"T_08357_row12_col1\" class=\"data row12 col1\" >0.825000</td>\n",
       "    </tr>\n",
       "    <tr>\n",
       "      <th id=\"T_08357_level0_row13\" class=\"row_heading level0 row13\" >13</th>\n",
       "      <td id=\"T_08357_row13_col0\" class=\"data row13 col0\" >SGD</td>\n",
       "      <td id=\"T_08357_row13_col1\" class=\"data row13 col1\" >0.800000</td>\n",
       "    </tr>\n",
       "  </tbody>\n",
       "</table>\n"
      ],
      "text/plain": [
       "<pandas.io.formats.style.Styler at 0x1aad1aff170>"
      ]
     },
     "execution_count": 34,
     "metadata": {},
     "output_type": "execute_result"
    }
   ],
   "source": [
    "cm = sns.light_palette(\"green\", as_cmap=True)\n",
    "s = df.style.background_gradient(cmap=cm)\n",
    "s"
   ]
  },
  {
   "cell_type": "code",
   "execution_count": 35,
   "id": "0fb085df-79f2-4951-b798-ec6ce2649d57",
   "metadata": {},
   "outputs": [
    {
     "data": {
      "image/png": "[encoded data removed]",
      "text/plain": [
       "<Figure size 640x480 with 1 Axes>"
      ]
     },
     "metadata": {},
     "output_type": "display_data"
    }
   ],
   "source": [
    "sns.set(style=\"whitegrid\")\n",
    "ax = sns.barplot(y=\"name\", x=\"score\", data=df)"
   ]
  },
  {
   "cell_type": "code",
   "execution_count": null,
   "id": "5146578d-2fcc-415a-8f8d-0f370389939c",
   "metadata": {},
   "outputs": [],
   "source": []
  }
 ],
 "metadata": {
  "kernelspec": {
   "display_name": "Python 3 (ipykernel)",
   "language": "python",
   "name": "python3"
  },
  "language_info": {
   "codemirror_mode": {
    "name": "ipython",
    "version": 3
   },
   "file_extension": ".py",
   "mimetype": "text/x-python",
   "name": "python",
   "nbconvert_exporter": "python",
   "pygments_lexer": "ipython3",
   "version": "3.12.4"
  }
 },
 "nbformat": 4,
 "nbformat_minor": 5
}
